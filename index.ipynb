{
 "cells": [
  {
   "cell_type": "markdown",
   "metadata": {},
   "source": [
    "# One-to-Many and Many-to-Many Joins - Lab"
   ]
  },
  {
   "cell_type": "markdown",
   "metadata": {},
   "source": [
    "## Introduction"
   ]
  },
  {
   "cell_type": "markdown",
   "metadata": {},
   "source": [
    "In this lab, you'll practice your knowledge on One-to-Many and Many-to-many relationships!"
   ]
  },
  {
   "cell_type": "markdown",
   "metadata": {},
   "source": [
    "## Objectives"
   ]
  },
  {
   "cell_type": "markdown",
   "metadata": {},
   "source": [
    "You will be able to:\n",
    "- Query data including Many-to-Many relationships\n",
    "- Write queries that make use of Join Tables"
   ]
  },
  {
   "cell_type": "code",
   "execution_count": 1,
   "metadata": {},
   "outputs": [],
   "source": [
    "import sqlite3\n",
    "import pandas as pd"
   ]
  },
  {
   "cell_type": "code",
   "execution_count": 2,
   "metadata": {},
   "outputs": [],
   "source": [
    "conn = sqlite3.connect('data.sqlite', detect_types=sqlite3.PARSE_COLNAMES)\n",
    "cur = conn.cursor()"
   ]
  },
  {
   "cell_type": "markdown",
   "metadata": {},
   "source": [
    "## One-to-Many and Many-to-Many Joins\n",
    "<img src='Database-Schema.png' width=550>"
   ]
  },
  {
   "cell_type": "markdown",
   "metadata": {},
   "source": [
    "## Employees and their Office (a One-to-One join)\n",
    "\n",
    "Return a list of all of the employees with their first name, last name and the city and state of the office that they work out of (if they have one). Include all employees and order them by their first name, then their last name."
   ]
  },
  {
   "cell_type": "code",
   "execution_count": 5,
   "metadata": {},
   "outputs": [
    {
     "name": "stdout",
     "output_type": "stream",
     "text": [
      "23\n"
     ]
    },
    {
     "data": {
      "text/html": [
       "<div>\n",
       "<style scoped>\n",
       "    .dataframe tbody tr th:only-of-type {\n",
       "        vertical-align: middle;\n",
       "    }\n",
       "\n",
       "    .dataframe tbody tr th {\n",
       "        vertical-align: top;\n",
       "    }\n",
       "\n",
       "    .dataframe thead th {\n",
       "        text-align: right;\n",
       "    }\n",
       "</style>\n",
       "<table border=\"1\" class=\"dataframe\">\n",
       "  <thead>\n",
       "    <tr style=\"text-align: right;\">\n",
       "      <th></th>\n",
       "      <th>0</th>\n",
       "      <th>1</th>\n",
       "      <th>2</th>\n",
       "      <th>3</th>\n",
       "    </tr>\n",
       "  </thead>\n",
       "  <tbody>\n",
       "    <tr>\n",
       "      <th>0</th>\n",
       "      <td>Andy</td>\n",
       "      <td>Fixter</td>\n",
       "      <td>Sydney</td>\n",
       "      <td></td>\n",
       "    </tr>\n",
       "    <tr>\n",
       "      <th>1</th>\n",
       "      <td>Anthony</td>\n",
       "      <td>Bow</td>\n",
       "      <td>San Francisco</td>\n",
       "      <td>CA</td>\n",
       "    </tr>\n",
       "    <tr>\n",
       "      <th>2</th>\n",
       "      <td>Barry</td>\n",
       "      <td>Jones</td>\n",
       "      <td>London</td>\n",
       "      <td></td>\n",
       "    </tr>\n",
       "    <tr>\n",
       "      <th>3</th>\n",
       "      <td>Diane</td>\n",
       "      <td>Murphy</td>\n",
       "      <td>San Francisco</td>\n",
       "      <td>CA</td>\n",
       "    </tr>\n",
       "    <tr>\n",
       "      <th>4</th>\n",
       "      <td>Foon Yue</td>\n",
       "      <td>Tseng</td>\n",
       "      <td>NYC</td>\n",
       "      <td>NY</td>\n",
       "    </tr>\n",
       "  </tbody>\n",
       "</table>\n",
       "</div>"
      ],
      "text/plain": [
       "          0       1              2   3\n",
       "0      Andy  Fixter         Sydney    \n",
       "1   Anthony     Bow  San Francisco  CA\n",
       "2     Barry   Jones         London    \n",
       "3     Diane  Murphy  San Francisco  CA\n",
       "4  Foon Yue   Tseng            NYC  NY"
      ]
     },
     "execution_count": 5,
     "metadata": {},
     "output_type": "execute_result"
    }
   ],
   "source": [
    "cur.execute('''SELECT employees.firstName, employees.lastName, offices.city, offices.state FROM\n",
    "                        employees LEFT JOIN offices USING (officeCode)\n",
    "                        ORDER BY employees.firstName, lastName;''')\n",
    "df=pd.DataFrame(cur.fetchall())\n",
    "print(len(df))\n",
    "df.head()"
   ]
  },
  {
   "cell_type": "markdown",
   "metadata": {},
   "source": [
    "## Customers and their Orders (a One-to-Many join)\n",
    "\n",
    "Return a list of all of the customers. For each customer return a record for each of their order numbers, order dates and statuses."
   ]
  },
  {
   "cell_type": "code",
   "execution_count": 8,
   "metadata": {},
   "outputs": [
    {
     "name": "stdout",
     "output_type": "stream",
     "text": [
      "122\n"
     ]
    },
    {
     "data": {
      "text/html": [
       "<div>\n",
       "<style scoped>\n",
       "    .dataframe tbody tr th:only-of-type {\n",
       "        vertical-align: middle;\n",
       "    }\n",
       "\n",
       "    .dataframe tbody tr th {\n",
       "        vertical-align: top;\n",
       "    }\n",
       "\n",
       "    .dataframe thead th {\n",
       "        text-align: right;\n",
       "    }\n",
       "</style>\n",
       "<table border=\"1\" class=\"dataframe\">\n",
       "  <thead>\n",
       "    <tr style=\"text-align: right;\">\n",
       "      <th></th>\n",
       "      <th>customerNumber</th>\n",
       "      <th>customerName</th>\n",
       "      <th>contactLastName</th>\n",
       "      <th>contactFirstName</th>\n",
       "      <th>phone</th>\n",
       "      <th>addressLine1</th>\n",
       "      <th>addressLine2</th>\n",
       "      <th>city</th>\n",
       "      <th>state</th>\n",
       "      <th>postalCode</th>\n",
       "      <th>country</th>\n",
       "      <th>salesRepEmployeeNumber</th>\n",
       "      <th>creditLimit</th>\n",
       "    </tr>\n",
       "  </thead>\n",
       "  <tbody>\n",
       "    <tr>\n",
       "      <th>0</th>\n",
       "      <td>103</td>\n",
       "      <td>Atelier graphique</td>\n",
       "      <td>Schmitt</td>\n",
       "      <td>Carine</td>\n",
       "      <td>40.32.2555</td>\n",
       "      <td>54, rue Royale</td>\n",
       "      <td></td>\n",
       "      <td>Nantes</td>\n",
       "      <td></td>\n",
       "      <td>44000</td>\n",
       "      <td>France</td>\n",
       "      <td>1370</td>\n",
       "      <td>21000.00</td>\n",
       "    </tr>\n",
       "    <tr>\n",
       "      <th>1</th>\n",
       "      <td>112</td>\n",
       "      <td>Signal Gift Stores</td>\n",
       "      <td>King</td>\n",
       "      <td>Jean</td>\n",
       "      <td>7025551838</td>\n",
       "      <td>8489 Strong St.</td>\n",
       "      <td></td>\n",
       "      <td>Las Vegas</td>\n",
       "      <td>NV</td>\n",
       "      <td>83030</td>\n",
       "      <td>USA</td>\n",
       "      <td>1166</td>\n",
       "      <td>71800.00</td>\n",
       "    </tr>\n",
       "  </tbody>\n",
       "</table>\n",
       "</div>"
      ],
      "text/plain": [
       "  customerNumber        customerName contactLastName contactFirstName  \\\n",
       "0            103   Atelier graphique         Schmitt          Carine    \n",
       "1            112  Signal Gift Stores            King             Jean   \n",
       "\n",
       "        phone     addressLine1 addressLine2       city state postalCode  \\\n",
       "0  40.32.2555   54, rue Royale                  Nantes            44000   \n",
       "1  7025551838  8489 Strong St.               Las Vegas    NV      83030   \n",
       "\n",
       "  country salesRepEmployeeNumber creditLimit  \n",
       "0  France                   1370    21000.00  \n",
       "1     USA                   1166    71800.00  "
      ]
     },
     "execution_count": 8,
     "metadata": {},
     "output_type": "execute_result"
    }
   ],
   "source": [
    "cur.execute('''SELECT * FROM customers;''')\n",
    "df=pd.DataFrame(cur.fetchall())\n",
    "df. columns = [i[0] for i in cur.description]\n",
    "print(len(df))\n",
    "df.head(2)"
   ]
  },
  {
   "cell_type": "code",
   "execution_count": 9,
   "metadata": {},
   "outputs": [
    {
     "name": "stdout",
     "output_type": "stream",
     "text": [
      "326\n"
     ]
    },
    {
     "data": {
      "text/html": [
       "<div>\n",
       "<style scoped>\n",
       "    .dataframe tbody tr th:only-of-type {\n",
       "        vertical-align: middle;\n",
       "    }\n",
       "\n",
       "    .dataframe tbody tr th {\n",
       "        vertical-align: top;\n",
       "    }\n",
       "\n",
       "    .dataframe thead th {\n",
       "        text-align: right;\n",
       "    }\n",
       "</style>\n",
       "<table border=\"1\" class=\"dataframe\">\n",
       "  <thead>\n",
       "    <tr style=\"text-align: right;\">\n",
       "      <th></th>\n",
       "      <th>orderNumber</th>\n",
       "      <th>orderDate</th>\n",
       "      <th>requiredDate</th>\n",
       "      <th>shippedDate</th>\n",
       "      <th>status</th>\n",
       "      <th>comments</th>\n",
       "      <th>customerNumber</th>\n",
       "    </tr>\n",
       "  </thead>\n",
       "  <tbody>\n",
       "    <tr>\n",
       "      <th>0</th>\n",
       "      <td>10100</td>\n",
       "      <td>2003-01-06</td>\n",
       "      <td>2003-01-13</td>\n",
       "      <td>2003-01-10</td>\n",
       "      <td>Shipped</td>\n",
       "      <td></td>\n",
       "      <td>363</td>\n",
       "    </tr>\n",
       "    <tr>\n",
       "      <th>1</th>\n",
       "      <td>10101</td>\n",
       "      <td>2003-01-09</td>\n",
       "      <td>2003-01-18</td>\n",
       "      <td>2003-01-11</td>\n",
       "      <td>Shipped</td>\n",
       "      <td>Check on availability.</td>\n",
       "      <td>128</td>\n",
       "    </tr>\n",
       "  </tbody>\n",
       "</table>\n",
       "</div>"
      ],
      "text/plain": [
       "  orderNumber   orderDate requiredDate shippedDate   status  \\\n",
       "0       10100  2003-01-06   2003-01-13  2003-01-10  Shipped   \n",
       "1       10101  2003-01-09   2003-01-18  2003-01-11  Shipped   \n",
       "\n",
       "                 comments customerNumber  \n",
       "0                                    363  \n",
       "1  Check on availability.            128  "
      ]
     },
     "execution_count": 9,
     "metadata": {},
     "output_type": "execute_result"
    }
   ],
   "source": [
    "cur.execute('''SELECT * FROM orders;''')\n",
    "df=pd.DataFrame(cur.fetchall())\n",
    "df. columns = [i[0] for i in cur.description]\n",
    "print(len(df))\n",
    "df.head(2)"
   ]
  },
  {
   "cell_type": "code",
   "execution_count": 16,
   "metadata": {},
   "outputs": [
    {
     "name": "stdout",
     "output_type": "stream",
     "text": [
      "326\n"
     ]
    },
    {
     "data": {
      "text/html": [
       "<div>\n",
       "<style scoped>\n",
       "    .dataframe tbody tr th:only-of-type {\n",
       "        vertical-align: middle;\n",
       "    }\n",
       "\n",
       "    .dataframe tbody tr th {\n",
       "        vertical-align: top;\n",
       "    }\n",
       "\n",
       "    .dataframe thead th {\n",
       "        text-align: right;\n",
       "    }\n",
       "</style>\n",
       "<table border=\"1\" class=\"dataframe\">\n",
       "  <thead>\n",
       "    <tr style=\"text-align: right;\">\n",
       "      <th></th>\n",
       "      <th>customerName</th>\n",
       "      <th>orderDate</th>\n",
       "      <th>status</th>\n",
       "    </tr>\n",
       "  </thead>\n",
       "  <tbody>\n",
       "    <tr>\n",
       "      <th>0</th>\n",
       "      <td>AV Stores, Co.</td>\n",
       "      <td>2003-03-18</td>\n",
       "      <td>Shipped</td>\n",
       "    </tr>\n",
       "    <tr>\n",
       "      <th>1</th>\n",
       "      <td>AV Stores, Co.</td>\n",
       "      <td>2004-10-14</td>\n",
       "      <td>Shipped</td>\n",
       "    </tr>\n",
       "    <tr>\n",
       "      <th>2</th>\n",
       "      <td>AV Stores, Co.</td>\n",
       "      <td>2004-11-17</td>\n",
       "      <td>Shipped</td>\n",
       "    </tr>\n",
       "    <tr>\n",
       "      <th>3</th>\n",
       "      <td>Alpha Cognac</td>\n",
       "      <td>2003-07-04</td>\n",
       "      <td>Shipped</td>\n",
       "    </tr>\n",
       "    <tr>\n",
       "      <th>4</th>\n",
       "      <td>Alpha Cognac</td>\n",
       "      <td>2003-11-08</td>\n",
       "      <td>Shipped</td>\n",
       "    </tr>\n",
       "  </tbody>\n",
       "</table>\n",
       "</div>"
      ],
      "text/plain": [
       "     customerName   orderDate   status\n",
       "0  AV Stores, Co.  2003-03-18  Shipped\n",
       "1  AV Stores, Co.  2004-10-14  Shipped\n",
       "2  AV Stores, Co.  2004-11-17  Shipped\n",
       "3    Alpha Cognac  2003-07-04  Shipped\n",
       "4    Alpha Cognac  2003-11-08  Shipped"
      ]
     },
     "execution_count": 16,
     "metadata": {},
     "output_type": "execute_result"
    }
   ],
   "source": [
    "cur.execute('''SELECT customers.customerName, orders.orderDate, orders.status FROM\n",
    "                                        customers JOIN orders USING (customerNumber)\n",
    "                                        ORDER BY customerName;''')\n",
    "df=pd.DataFrame(cur.fetchall())\n",
    "df. columns = [i[0] for i in cur.description]\n",
    "print(len(df))\n",
    "df.head(5)"
   ]
  },
  {
   "cell_type": "code",
   "execution_count": 17,
   "metadata": {},
   "outputs": [
    {
     "name": "stdout",
     "output_type": "stream",
     "text": [
      "326\n"
     ]
    },
    {
     "data": {
      "text/html": [
       "<div>\n",
       "<style scoped>\n",
       "    .dataframe tbody tr th:only-of-type {\n",
       "        vertical-align: middle;\n",
       "    }\n",
       "\n",
       "    .dataframe tbody tr th {\n",
       "        vertical-align: top;\n",
       "    }\n",
       "\n",
       "    .dataframe thead th {\n",
       "        text-align: right;\n",
       "    }\n",
       "</style>\n",
       "<table border=\"1\" class=\"dataframe\">\n",
       "  <thead>\n",
       "    <tr style=\"text-align: right;\">\n",
       "      <th></th>\n",
       "      <th>customerName</th>\n",
       "      <th>orderDate</th>\n",
       "      <th>status</th>\n",
       "    </tr>\n",
       "  </thead>\n",
       "  <tbody>\n",
       "    <tr>\n",
       "      <th>0</th>\n",
       "      <td>AV Stores, Co.</td>\n",
       "      <td>2003-03-18</td>\n",
       "      <td>Shipped</td>\n",
       "    </tr>\n",
       "    <tr>\n",
       "      <th>1</th>\n",
       "      <td>AV Stores, Co.</td>\n",
       "      <td>2004-10-14</td>\n",
       "      <td>Shipped</td>\n",
       "    </tr>\n",
       "    <tr>\n",
       "      <th>2</th>\n",
       "      <td>AV Stores, Co.</td>\n",
       "      <td>2004-11-17</td>\n",
       "      <td>Shipped</td>\n",
       "    </tr>\n",
       "    <tr>\n",
       "      <th>3</th>\n",
       "      <td>Alpha Cognac</td>\n",
       "      <td>2003-07-04</td>\n",
       "      <td>Shipped</td>\n",
       "    </tr>\n",
       "    <tr>\n",
       "      <th>4</th>\n",
       "      <td>Alpha Cognac</td>\n",
       "      <td>2003-11-08</td>\n",
       "      <td>Shipped</td>\n",
       "    </tr>\n",
       "  </tbody>\n",
       "</table>\n",
       "</div>"
      ],
      "text/plain": [
       "     customerName   orderDate   status\n",
       "0  AV Stores, Co.  2003-03-18  Shipped\n",
       "1  AV Stores, Co.  2004-10-14  Shipped\n",
       "2  AV Stores, Co.  2004-11-17  Shipped\n",
       "3    Alpha Cognac  2003-07-04  Shipped\n",
       "4    Alpha Cognac  2003-11-08  Shipped"
      ]
     },
     "execution_count": 17,
     "metadata": {},
     "output_type": "execute_result"
    }
   ],
   "source": [
    "cur.execute('''SELECT customers.customerName, orders.orderDate, orders.status FROM\n",
    "                                        orders JOIN customers USING (customerNumber)\n",
    "                                        ORDER BY customerName;''')\n",
    "df=pd.DataFrame(cur.fetchall())\n",
    "df. columns = [i[0] for i in cur.description]\n",
    "print(len(df))\n",
    "df.head(5)"
   ]
  },
  {
   "cell_type": "markdown",
   "metadata": {},
   "source": [
    "## Orders and their Order Details (another One-to-Many join)\n",
    "\n",
    "Return a list of orders. For each order return a record for each order detail within the order."
   ]
  },
  {
   "cell_type": "code",
   "execution_count": 18,
   "metadata": {},
   "outputs": [
    {
     "name": "stdout",
     "output_type": "stream",
     "text": [
      "2996\n"
     ]
    },
    {
     "data": {
      "text/html": [
       "<div>\n",
       "<style scoped>\n",
       "    .dataframe tbody tr th:only-of-type {\n",
       "        vertical-align: middle;\n",
       "    }\n",
       "\n",
       "    .dataframe tbody tr th {\n",
       "        vertical-align: top;\n",
       "    }\n",
       "\n",
       "    .dataframe thead th {\n",
       "        text-align: right;\n",
       "    }\n",
       "</style>\n",
       "<table border=\"1\" class=\"dataframe\">\n",
       "  <thead>\n",
       "    <tr style=\"text-align: right;\">\n",
       "      <th></th>\n",
       "      <th>orderNumber</th>\n",
       "      <th>productCode</th>\n",
       "      <th>quantityOrdered</th>\n",
       "      <th>priceEach</th>\n",
       "      <th>orderLineNumber</th>\n",
       "    </tr>\n",
       "  </thead>\n",
       "  <tbody>\n",
       "    <tr>\n",
       "      <th>0</th>\n",
       "      <td>10100</td>\n",
       "      <td>S18_1749</td>\n",
       "      <td>30</td>\n",
       "      <td>136.00</td>\n",
       "      <td>3</td>\n",
       "    </tr>\n",
       "    <tr>\n",
       "      <th>1</th>\n",
       "      <td>10100</td>\n",
       "      <td>S18_2248</td>\n",
       "      <td>50</td>\n",
       "      <td>55.09</td>\n",
       "      <td>2</td>\n",
       "    </tr>\n",
       "    <tr>\n",
       "      <th>2</th>\n",
       "      <td>10100</td>\n",
       "      <td>S18_4409</td>\n",
       "      <td>22</td>\n",
       "      <td>75.46</td>\n",
       "      <td>4</td>\n",
       "    </tr>\n",
       "    <tr>\n",
       "      <th>3</th>\n",
       "      <td>10100</td>\n",
       "      <td>S24_3969</td>\n",
       "      <td>49</td>\n",
       "      <td>35.29</td>\n",
       "      <td>1</td>\n",
       "    </tr>\n",
       "    <tr>\n",
       "      <th>4</th>\n",
       "      <td>10101</td>\n",
       "      <td>S18_2325</td>\n",
       "      <td>25</td>\n",
       "      <td>108.06</td>\n",
       "      <td>4</td>\n",
       "    </tr>\n",
       "  </tbody>\n",
       "</table>\n",
       "</div>"
      ],
      "text/plain": [
       "  orderNumber productCode quantityOrdered priceEach orderLineNumber\n",
       "0       10100    S18_1749              30    136.00               3\n",
       "1       10100    S18_2248              50     55.09               2\n",
       "2       10100    S18_4409              22     75.46               4\n",
       "3       10100    S24_3969              49     35.29               1\n",
       "4       10101    S18_2325              25    108.06               4"
      ]
     },
     "execution_count": 18,
     "metadata": {},
     "output_type": "execute_result"
    }
   ],
   "source": [
    "cur.execute('''SELECT orderdetails.* FROM\n",
    "                            orders JOIN orderdetails USING (orderNumber)\n",
    "                                        ORDER BY orderNumber;''')\n",
    "df=pd.DataFrame(cur.fetchall())\n",
    "df. columns = [i[0] for i in cur.description]\n",
    "print(len(df))\n",
    "df.head(5)"
   ]
  },
  {
   "cell_type": "markdown",
   "metadata": {},
   "source": [
    "## Orders, Order details and Product Details (a Many-to-Many Join)"
   ]
  },
  {
   "cell_type": "markdown",
   "metadata": {},
   "source": [
    "Return a list of the orders with the the order information, and allthe product information for each product in the order. "
   ]
  },
  {
   "cell_type": "code",
   "execution_count": 20,
   "metadata": {},
   "outputs": [
    {
     "name": "stdout",
     "output_type": "stream",
     "text": [
      "2996\n"
     ]
    },
    {
     "data": {
      "text/html": [
       "<div>\n",
       "<style scoped>\n",
       "    .dataframe tbody tr th:only-of-type {\n",
       "        vertical-align: middle;\n",
       "    }\n",
       "\n",
       "    .dataframe tbody tr th {\n",
       "        vertical-align: top;\n",
       "    }\n",
       "\n",
       "    .dataframe thead th {\n",
       "        text-align: right;\n",
       "    }\n",
       "</style>\n",
       "<table border=\"1\" class=\"dataframe\">\n",
       "  <thead>\n",
       "    <tr style=\"text-align: right;\">\n",
       "      <th></th>\n",
       "      <th>orderNumber</th>\n",
       "      <th>productCode</th>\n",
       "      <th>quantityOrdered</th>\n",
       "      <th>priceEach</th>\n",
       "      <th>orderLineNumber</th>\n",
       "      <th>productCode</th>\n",
       "      <th>productName</th>\n",
       "      <th>productLine</th>\n",
       "      <th>productScale</th>\n",
       "      <th>productVendor</th>\n",
       "      <th>productDescription</th>\n",
       "      <th>quantityInStock</th>\n",
       "      <th>buyPrice</th>\n",
       "      <th>MSRP</th>\n",
       "    </tr>\n",
       "  </thead>\n",
       "  <tbody>\n",
       "    <tr>\n",
       "      <th>0</th>\n",
       "      <td>10100</td>\n",
       "      <td>S18_1749</td>\n",
       "      <td>30</td>\n",
       "      <td>136.00</td>\n",
       "      <td>3</td>\n",
       "      <td>S18_1749</td>\n",
       "      <td>1917 Grand Touring Sedan</td>\n",
       "      <td>Vintage Cars</td>\n",
       "      <td>1:18</td>\n",
       "      <td>Welly Diecast Productions</td>\n",
       "      <td>This 1:18 scale replica of the 1917 Grand Tour...</td>\n",
       "      <td>2724</td>\n",
       "      <td>86.70</td>\n",
       "      <td>170.00</td>\n",
       "    </tr>\n",
       "    <tr>\n",
       "      <th>1</th>\n",
       "      <td>10100</td>\n",
       "      <td>S18_2248</td>\n",
       "      <td>50</td>\n",
       "      <td>55.09</td>\n",
       "      <td>2</td>\n",
       "      <td>S18_2248</td>\n",
       "      <td>1911 Ford Town Car</td>\n",
       "      <td>Vintage Cars</td>\n",
       "      <td>1:18</td>\n",
       "      <td>Motor City Art Classics</td>\n",
       "      <td>Features opening hood, opening doors, opening ...</td>\n",
       "      <td>540</td>\n",
       "      <td>33.30</td>\n",
       "      <td>60.54</td>\n",
       "    </tr>\n",
       "    <tr>\n",
       "      <th>2</th>\n",
       "      <td>10100</td>\n",
       "      <td>S18_4409</td>\n",
       "      <td>22</td>\n",
       "      <td>75.46</td>\n",
       "      <td>4</td>\n",
       "      <td>S18_4409</td>\n",
       "      <td>1932 Alfa Romeo 8C2300 Spider Sport</td>\n",
       "      <td>Vintage Cars</td>\n",
       "      <td>1:18</td>\n",
       "      <td>Exoto Designs</td>\n",
       "      <td>This 1:18 scale precision die cast replica fea...</td>\n",
       "      <td>6553</td>\n",
       "      <td>43.26</td>\n",
       "      <td>92.03</td>\n",
       "    </tr>\n",
       "    <tr>\n",
       "      <th>3</th>\n",
       "      <td>10100</td>\n",
       "      <td>S24_3969</td>\n",
       "      <td>49</td>\n",
       "      <td>35.29</td>\n",
       "      <td>1</td>\n",
       "      <td>S24_3969</td>\n",
       "      <td>1936 Mercedes Benz 500k Roadster</td>\n",
       "      <td>Vintage Cars</td>\n",
       "      <td>1:24</td>\n",
       "      <td>Red Start Diecast</td>\n",
       "      <td>This model features grille-mounted chrome horn...</td>\n",
       "      <td>2081</td>\n",
       "      <td>21.75</td>\n",
       "      <td>41.03</td>\n",
       "    </tr>\n",
       "    <tr>\n",
       "      <th>4</th>\n",
       "      <td>10101</td>\n",
       "      <td>S18_2325</td>\n",
       "      <td>25</td>\n",
       "      <td>108.06</td>\n",
       "      <td>4</td>\n",
       "      <td>S18_2325</td>\n",
       "      <td>1932 Model A Ford J-Coupe</td>\n",
       "      <td>Vintage Cars</td>\n",
       "      <td>1:18</td>\n",
       "      <td>Autoart Studio Design</td>\n",
       "      <td>This model features grille-mounted chrome horn...</td>\n",
       "      <td>9354</td>\n",
       "      <td>58.48</td>\n",
       "      <td>127.13</td>\n",
       "    </tr>\n",
       "  </tbody>\n",
       "</table>\n",
       "</div>"
      ],
      "text/plain": [
       "  orderNumber productCode quantityOrdered priceEach orderLineNumber  \\\n",
       "0       10100    S18_1749              30    136.00               3   \n",
       "1       10100    S18_2248              50     55.09               2   \n",
       "2       10100    S18_4409              22     75.46               4   \n",
       "3       10100    S24_3969              49     35.29               1   \n",
       "4       10101    S18_2325              25    108.06               4   \n",
       "\n",
       "  productCode                          productName   productLine productScale  \\\n",
       "0    S18_1749             1917 Grand Touring Sedan  Vintage Cars         1:18   \n",
       "1    S18_2248                   1911 Ford Town Car  Vintage Cars         1:18   \n",
       "2    S18_4409  1932 Alfa Romeo 8C2300 Spider Sport  Vintage Cars         1:18   \n",
       "3    S24_3969     1936 Mercedes Benz 500k Roadster  Vintage Cars         1:24   \n",
       "4    S18_2325            1932 Model A Ford J-Coupe  Vintage Cars         1:18   \n",
       "\n",
       "               productVendor  \\\n",
       "0  Welly Diecast Productions   \n",
       "1    Motor City Art Classics   \n",
       "2              Exoto Designs   \n",
       "3          Red Start Diecast   \n",
       "4      Autoart Studio Design   \n",
       "\n",
       "                                  productDescription quantityInStock buyPrice  \\\n",
       "0  This 1:18 scale replica of the 1917 Grand Tour...            2724    86.70   \n",
       "1  Features opening hood, opening doors, opening ...             540    33.30   \n",
       "2  This 1:18 scale precision die cast replica fea...            6553    43.26   \n",
       "3  This model features grille-mounted chrome horn...            2081    21.75   \n",
       "4  This model features grille-mounted chrome horn...            9354    58.48   \n",
       "\n",
       "     MSRP  \n",
       "0  170.00  \n",
       "1   60.54  \n",
       "2   92.03  \n",
       "3   41.03  \n",
       "4  127.13  "
      ]
     },
     "execution_count": 20,
     "metadata": {},
     "output_type": "execute_result"
    }
   ],
   "source": [
    "cur.execute('''SELECT orderdetails.*, products.* FROM\n",
    "                            orders JOIN orderdetails USING (orderNumber)\n",
    "                            JOIN products USING (productCode)\n",
    "                                        ORDER BY orderNumber;''')\n",
    "df=pd.DataFrame(cur.fetchall())\n",
    "df. columns = [i[0] for i in cur.description]\n",
    "print(len(df))\n",
    "df.head(5)"
   ]
  },
  {
   "cell_type": "markdown",
   "metadata": {},
   "source": [
    "## Summary"
   ]
  },
  {
   "cell_type": "markdown",
   "metadata": {},
   "source": [
    "In this lab, you practiced your knowledge on One-to-Many and Many-to-many relationships!"
   ]
  }
 ],
 "metadata": {
  "kernelspec": {
   "display_name": "Python 3",
   "language": "python",
   "name": "python3"
  },
  "language_info": {
   "codemirror_mode": {
    "name": "ipython",
    "version": 3
   },
   "file_extension": ".py",
   "mimetype": "text/x-python",
   "name": "python",
   "nbconvert_exporter": "python",
   "pygments_lexer": "ipython3",
   "version": "3.6.5"
  }
 },
 "nbformat": 4,
 "nbformat_minor": 2
}
